{
 "cells": [
  {
   "cell_type": "code",
   "execution_count": null,
   "metadata": {},
   "outputs": [],
   "source": [
    "import itertools\n",
    "n = 6  #number of symbols\n",
    "UB = 871 #you have to put a target upperbound\n",
    "permutations = list(itertools.permutations(list(range(n)), n))\n",
    "print(permutations)"
   ]
  },
  {
   "cell_type": "code",
   "execution_count": null,
   "metadata": {},
   "outputs": [],
   "source": [
    "from ortools.sat.python import cp_model\n",
    "model = cp_model.CpModel()\n",
    "solver = cp_model.CpSolver()\n",
    "assignment = {}\n",
    "hasPerm = {}\n",
    "num_vals = n\n",
    "for s in range (0,n):\n",
    "    for i in range(0,UB):\n",
    "        assignment[(s, i)] = model.NewBoolVar(\"symbol %i is in position %i\" % (s, i))\n",
    "for p in range(0,len(permutations)):\n",
    "    for i in range(0,UB-n+1):\n",
    "        hasPerm[(p,i)] = model.NewBoolVar(\"permutation %i , %s is in position %i\" % (p, permutations[p], i))"
   ]
  },
  {
   "cell_type": "code",
   "execution_count": null,
   "metadata": {},
   "outputs": [],
   "source": [
    "#fix first permutation\n",
    "#model.Add(hasPerm[(0,0)] == 1)"
   ]
  },
  {
   "cell_type": "code",
   "execution_count": null,
   "metadata": {},
   "outputs": [],
   "source": [
    "# only one symbol per position\n",
    "for i in range(0,UB):\n",
    "    vars = []\n",
    "    for s in range (0,n):\n",
    "        vars.append(assignment[(s, i)])\n",
    "    model.Add(sum(vars) == 1)"
   ]
  },
  {
   "cell_type": "code",
   "execution_count": null,
   "metadata": {},
   "outputs": [],
   "source": [
    "# at most one permutation per position\n",
    "for i in range(0,UB-n+1):\n",
    "    vars = []\n",
    "    for p in range (0,len(permutations)):\n",
    "        vars.append(hasPerm[(p,i)])\n",
    "    model.Add(sum(vars) <= 1)"
   ]
  },
  {
   "cell_type": "code",
   "execution_count": null,
   "metadata": {},
   "outputs": [],
   "source": [
    "# each permutation at least once\n",
    "for p in range (0,len(permutations)):\n",
    "    vars = []\n",
    "    for i in range(0,UB-n+1):\n",
    "        vars.append(hasPerm[(p,i)])\n",
    "    model.Add(sum(vars) >= 1)"
   ]
  },
  {
   "cell_type": "code",
   "execution_count": null,
   "metadata": {},
   "outputs": [],
   "source": [
    "# link assignment to has permutation vars\n",
    "for i in range(0,UB-n+1):\n",
    "    for p in range (0,len(permutations)):\n",
    "        perm = permutations[p]\n",
    "        for shift in range(0,n):\n",
    "            val = perm[shift]\n",
    "            model.AddBoolOr([assignment[(val, i+shift)],hasPerm[(p,i)].Not()])"
   ]
  },
  {
   "cell_type": "code",
   "execution_count": null,
   "metadata": {},
   "outputs": [],
   "source": [
    "#solve the model\n",
    "status = solver.Solve(model)"
   ]
  },
  {
   "cell_type": "code",
   "execution_count": null,
   "metadata": {},
   "outputs": [],
   "source": [
    "if status == cp_model.FEASIBLE:\n",
    "    print(\"Feasible\")\n",
    "    print(\"Permutation:\")  \n",
    "    for i in range(0,UB):\n",
    "        for s in range (0,n):\n",
    "            val = solver.Value(assignment[(s, i)])\n",
    "            if (val == 1):\n",
    "                print(s,end='')\n",
    "    print(\"\")\n",
    "    for i in range(0,UB-n+1):\n",
    "        for p in range(0,len(permutations)):\n",
    "            val = solver.Value(hasPerm[(p,i)])\n",
    "            if (val == 1):\n",
    "                print(hasPerm[(p,i)])\n",
    "elif status == cp_model.INFEASIBLE:\n",
    "    print(\"Not feasible\")\n",
    "\n"
   ]
  },
  {
   "cell_type": "code",
   "execution_count": null,
   "metadata": {},
   "outputs": [],
   "source": []
  }
 ],
 "metadata": {
  "kernelspec": {
   "display_name": "Python 3",
   "language": "python",
   "name": "python3"
  },
  "language_info": {
   "codemirror_mode": {
    "name": "ipython",
    "version": 3
   },
   "file_extension": ".py",
   "mimetype": "text/x-python",
   "name": "python",
   "nbconvert_exporter": "python",
   "pygments_lexer": "ipython3",
   "version": "3.6.5"
  }
 },
 "nbformat": 4,
 "nbformat_minor": 2
}
